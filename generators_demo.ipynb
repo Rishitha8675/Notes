{
  "nbformat": 4,
  "nbformat_minor": 0,
  "metadata": {
    "colab": {
      "provenance": []
    },
    "kernelspec": {
      "name": "python3",
      "display_name": "Python 3"
    },
    "language_info": {
      "name": "python"
    }
  },
  "cells": [
    {
      "cell_type": "code",
      "execution_count": 8,
      "metadata": {
        "colab": {
          "base_uri": "https://localhost:8080/"
        },
        "id": "_N5MzgBEawyZ",
        "outputId": "55072b2b-6876-4158-8026-31969001c748"
      },
      "outputs": [
        {
          "output_type": "stream",
          "name": "stdout",
          "text": [
            "first statement\n",
            "second statement\n",
            "third statement\n",
            "fourth statement\n"
          ]
        }
      ],
      "source": [
        "def gen_demo():\n",
        "   yield \"first statement\"\n",
        "   yield \"second statement\"\n",
        "   yield \"third statement\"\n",
        "   yield \"fourth statement\"\n",
        "\n",
        "demo = gen_demo()\n",
        "print(next(demo))\n",
        "print(next(demo))\n",
        "print(next(demo))\n",
        "print(next(demo))"
      ]
    },
    {
      "cell_type": "code",
      "source": [
        "demo = gen_demo()\n",
        "for i in demo:\n",
        "  print(i)"
      ],
      "metadata": {
        "colab": {
          "base_uri": "https://localhost:8080/"
        },
        "id": "4w_rzkbfcIFz",
        "outputId": "63ad938c-020e-49dd-c34a-9eadd48fad96"
      },
      "execution_count": 10,
      "outputs": [
        {
          "output_type": "stream",
          "name": "stdout",
          "text": [
            "first statement\n",
            "second statement\n",
            "third statement\n",
            "fourth statement\n"
          ]
        }
      ]
    },
    {
      "cell_type": "markdown",
      "source": [
        "###yield vs return"
      ],
      "metadata": {
        "id": "Whw_1RXxc1bL"
      }
    },
    {
      "cell_type": "markdown",
      "source": [
        "yield returns the next one after the current one being used.  \n",
        "Generators use less memory than functions  \n",
        "Because generators use memory only for oen thing at a time  \n"
      ],
      "metadata": {
        "id": "g3NUBF7zdLxx"
      }
    },
    {
      "cell_type": "markdown",
      "source": [
        "### Generator expression"
      ],
      "metadata": {
        "id": "8fhV8IHneOcN"
      }
    },
    {
      "cell_type": "code",
      "source": [
        "L = [i**2 for i in range(1,101)]\n",
        "gen = (i**2 for i in range (1,101))\n",
        "\n",
        "for i in gen:\n",
        "    print(i)"
      ],
      "metadata": {
        "id": "EaPKhz6QeS9z"
      },
      "execution_count": null,
      "outputs": []
    },
    {
      "cell_type": "markdown",
      "source": [
        "### Generators usage in deep learning"
      ],
      "metadata": {
        "id": "hoUzGRirevWA"
      }
    },
    {
      "cell_type": "code",
      "source": [
        "import os\n",
        "import cv2\n",
        "\n",
        "#convert each image into an numpy array\n",
        "def image_data_reader(folder_path):\n",
        "   for file in os.listdir(folder_path):\n",
        "       f_array=cv2.imread(os.path.join(folder_path,file))\n",
        "       yield f_array"
      ],
      "metadata": {
        "id": "Kh4I2K3NetXM"
      },
      "execution_count": 13,
      "outputs": []
    },
    {
      "cell_type": "code",
      "source": [
        "gen = image_data_reader('path_of_file')\n",
        "print(next(gen))\n",
        "print(next(gen))\n",
        "print(next(gen))"
      ],
      "metadata": {
        "id": "xQCVLZcVftO5"
      },
      "execution_count": null,
      "outputs": []
    },
    {
      "cell_type": "markdown",
      "source": [
        "### Benefits of generator"
      ],
      "metadata": {
        "id": "E5Y35NZTgaBu"
      }
    },
    {
      "cell_type": "markdown",
      "source": [
        "1.Memory Efficient  \n",
        "2.Ease of implementation  \n",
        "3.Representing infinite Streams   \n",
        "4.Chaining Generators"
      ],
      "metadata": {
        "id": "DfKgTc5_gf0m"
      }
    },
    {
      "cell_type": "code",
      "source": [],
      "metadata": {
        "id": "NTRUauC7hVzW"
      },
      "execution_count": null,
      "outputs": []
    }
  ]
}